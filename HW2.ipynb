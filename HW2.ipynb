{
 "cells": [
  {
   "cell_type": "markdown",
   "metadata": {},
   "source": [
    "# INF560 HW2 python scripts\n",
    "## Gan Xin\n",
    "### This is the note book for running the 3 scripts for generating, processing and visualizing random numbers"
   ]
  },
  {
   "cell_type": "markdown",
   "metadata": {},
   "source": [
    "Firstly, we run the random number generator to generate 1000 numbers between 0 and 100, and save the list into a JSON file."
   ]
  },
  {
   "cell_type": "code",
   "execution_count": 1,
   "metadata": {
    "scrolled": false
   },
   "outputs": [
    {
     "name": "stdout",
     "output_type": "stream",
     "text": [
      "Requirement already satisfied: certifi==2020.6.20 in /Library/Frameworks/Python.framework/Versions/3.6/lib/python3.6/site-packages (from -r requirements.txt (line 1)) (2020.6.20)\n",
      "Requirement already satisfied: cycler==0.10.0 in /Library/Frameworks/Python.framework/Versions/3.6/lib/python3.6/site-packages (from -r requirements.txt (line 2)) (0.10.0)\n",
      "Collecting kiwisolver==1.3.0\n",
      "  Using cached kiwisolver-1.3.0-cp36-cp36m-macosx_10_9_x86_64.whl (61 kB)\n",
      "Requirement already satisfied: matplotlib==3.3.2 in /Library/Frameworks/Python.framework/Versions/3.6/lib/python3.6/site-packages (from -r requirements.txt (line 4)) (3.3.2)\n",
      "Collecting numpy==1.19.3\n",
      "  Using cached numpy-1.19.3-cp36-cp36m-macosx_10_9_x86_64.whl (15.9 MB)\n",
      "Collecting Pillow==8.0.1\n",
      "  Using cached Pillow-8.0.1-cp36-cp36m-macosx_10_10_x86_64.whl (2.2 MB)\n",
      "Requirement already satisfied: pyparsing==2.4.7 in /Library/Frameworks/Python.framework/Versions/3.6/lib/python3.6/site-packages (from -r requirements.txt (line 7)) (2.4.7)\n",
      "Requirement already satisfied: python-dateutil==2.8.1 in /Library/Frameworks/Python.framework/Versions/3.6/lib/python3.6/site-packages (from -r requirements.txt (line 8)) (2.8.1)\n",
      "Requirement already satisfied: six==1.15.0 in /Library/Frameworks/Python.framework/Versions/3.6/lib/python3.6/site-packages (from -r requirements.txt (line 9)) (1.15.0)\n",
      "Installing collected packages: kiwisolver, numpy, Pillow\n",
      "  Attempting uninstall: kiwisolver\n",
      "    Found existing installation: kiwisolver 1.2.0\n",
      "    Uninstalling kiwisolver-1.2.0:\n",
      "      Successfully uninstalled kiwisolver-1.2.0\n",
      "  Attempting uninstall: numpy\n",
      "    Found existing installation: numpy 1.19.1\n",
      "    Uninstalling numpy-1.19.1:\n",
      "      Successfully uninstalled numpy-1.19.1\n",
      "  Attempting uninstall: Pillow\n",
      "    Found existing installation: Pillow 7.2.0\n",
      "    Uninstalling Pillow-7.2.0:\n",
      "      Successfully uninstalled Pillow-7.2.0\n",
      "Successfully installed Pillow-8.0.1 kiwisolver-1.3.0 numpy-1.19.3\n",
      "\u001b[33mWARNING: You are using pip version 20.2.2; however, version 20.2.4 is available.\n",
      "You should consider upgrading via the '/Library/Frameworks/Python.framework/Versions/3.6/bin/python3.6 -m pip install --upgrade pip' command.\u001b[0m\n"
     ]
    }
   ],
   "source": [
    "# run the random number generator\n",
    "!pip install -r requirements.txt\n",
    "%run -i 'number_generator.py'"
   ]
  },
  {
   "cell_type": "markdown",
   "metadata": {},
   "source": [
    "Visualization of the distribution of the random numbers. It's a uniformed distribution so the image looks like a line."
   ]
  },
  {
   "cell_type": "code",
   "execution_count": 8,
   "metadata": {
    "pycharm": {
     "name": "#%%\n"
    },
    "scrolled": true
   },
   "outputs": [
    {
     "data": {
      "image/png": "[encoded data removed]",
      "text/plain": [
       "<Figure size 432x288 with 1 Axes>"
      ]
     },
     "metadata": {
      "needs_background": "light"
     },
     "output_type": "display_data"
    }
   ],
   "source": [
    "import json\n",
    "import matplotlib.pyplot as plt\n",
    "import numpy as np\n",
    "with open('output1.json') as f:\n",
    "    x = json.load(f)\n",
    "data = x['result']\n",
    "val = 0. # this is the value where you want the data to appear on the y-axis.\n",
    "plt.plot(data, np.zeros_like(data) + val, 'x')\n",
    "plt.show()"
   ]
  },
  {
   "cell_type": "markdown",
   "metadata": {
    "pycharm": {
     "name": "#%% md\n"
    }
   },
   "source": [
    "Secondly, we run the script for applying the equation to the JSON data from the first step and save the result into a JSON file."
   ]
  },
  {
   "cell_type": "markdown",
   "metadata": {},
   "source": [
    "Secondly, we run the script for applying the equation to the JSON data from the first step and save the result into a JSON file."
   ]
  },
  {
   "cell_type": "code",
   "execution_count": 2,
   "metadata": {},
   "outputs": [],
   "source": [
    "# run the number transformer\n",
    "%run -i 'number_equition.py'"
   ]
  },
  {
   "cell_type": "markdown",
   "metadata": {},
   "source": [
    "Visualization of the intermidiate result. The points are projected to a range from 0 to 300 instead of 0 to 100."
   ]
  },
  {
   "cell_type": "code",
   "execution_count": 9,
   "metadata": {},
   "outputs": [
    {
     "data": {
      "image/png": "[encoded data removed]",
      "text/plain": [
       "<Figure size 432x288 with 1 Axes>"
      ]
     },
     "metadata": {
      "needs_background": "light"
     },
     "output_type": "display_data"
    }
   ],
   "source": [
    "with open('output2.json') as f:\n",
    "    x = json.load(f)\n",
    "data = x['result']\n",
    "val = 0. # this is the value where you want the data to appear on the y-axis.\n",
    "plt.plot(data, np.zeros_like(data) + val, 'x')\n",
    "plt.show()"
   ]
  },
  {
   "cell_type": "markdown",
   "metadata": {},
   "source": [
    "Finally we run the visualization script for visualizing the points, in the figure, one point corresponds to a random number and the result of applying the equation to it."
   ]
  },
  {
   "cell_type": "code",
   "execution_count": 3,
   "metadata": {},
   "outputs": [
    {
     "data": {
      "image/png": "[encoded data removed]",
      "text/plain": [
       "<Figure size 432x288 with 1 Axes>"
      ]
     },
     "metadata": {
      "needs_background": "light"
     },
     "output_type": "display_data"
    }
   ],
   "source": [
    "# run the visualization script\n",
    "%run -i 'visualization.py'"
   ]
  },
  {
   "cell_type": "code",
   "execution_count": null,
   "metadata": {},
   "outputs": [],
   "source": []
  }
 ],
 "metadata": {
  "kernelspec": {
   "display_name": "Python 3",
   "language": "python",
   "name": "python3"
  },
  "language_info": {
   "codemirror_mode": {
    "name": "ipython",
    "version": 3
   },
   "file_extension": ".py",
   "mimetype": "text/x-python",
   "name": "python",
   "nbconvert_exporter": "python",
   "pygments_lexer": "ipython3",
   "version": "3.6.8"
  },
  "pycharm": {
   "stem_cell": {
    "cell_type": "raw",
    "source": [],
    "metadata": {
     "collapsed": false
    }
   }
  }
 },
 "nbformat": 4,
 "nbformat_minor": 4
}